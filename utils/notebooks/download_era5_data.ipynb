{
 "cells": [
  {
   "cell_type": "code",
   "execution_count": 4,
   "metadata": {},
   "outputs": [],
   "source": [
    "# import python libraries\n",
    "from netCDF4 import Dataset, num2date\n",
    "from pathlib import Path"
   ]
  },
  {
   "cell_type": "markdown",
   "metadata": {},
   "source": [
    "## Run these two cells below only once"
   ]
  },
  {
   "cell_type": "code",
   "execution_count": null,
   "metadata": {},
   "outputs": [],
   "source": [
    "# Create a key ascii file\n",
    "!echo \"url: https://cds.climate.copernicus.eu/api/v2\" > ~/.cdsapirc \n",
    "\n",
    "# Replace UID with your user ID and KEY with your API key\n",
    "!echo \"key: UID:KEY\" >> ~/.cdsapirc"
   ]
  },
  {
   "cell_type": "code",
   "execution_count": 6,
   "metadata": {},
   "outputs": [
    {
     "name": "stdout",
     "output_type": "stream",
     "text": [
      "Defaulting to user installation because normal site-packages is not writeable\n",
      "Requirement already satisfied: era5cli in /home/jovyan/.local/lib/python3.8/site-packages (1.3.1)\n",
      "Requirement already satisfied: PTable in /home/jovyan/.local/lib/python3.8/site-packages (from era5cli) (0.9.2)\n",
      "Requirement already satisfied: cdsapi==0.4.0 in /home/jovyan/.local/lib/python3.8/site-packages (from era5cli) (0.4.0)\n",
      "Requirement already satisfied: netCDF4 in /usr/local/lib/python3.8/dist-packages (from era5cli) (1.5.8)\n",
      "Requirement already satisfied: pathos in /usr/local/lib/python3.8/dist-packages (from era5cli) (0.2.8)\n",
      "Requirement already satisfied: requests>=2.5.0 in /usr/local/lib/python3.8/dist-packages (from cdsapi==0.4.0->era5cli) (2.27.1)\n",
      "Requirement already satisfied: tqdm in /usr/local/lib/python3.8/dist-packages (from cdsapi==0.4.0->era5cli) (4.64.0)\n",
      "Requirement already satisfied: cftime in /usr/local/lib/python3.8/dist-packages (from netCDF4->era5cli) (1.6.0)\n",
      "Requirement already satisfied: numpy>=1.9 in /usr/local/lib/python3.8/dist-packages (from netCDF4->era5cli) (1.21.6)\n",
      "Requirement already satisfied: dill>=0.3.4 in /usr/local/lib/python3.8/dist-packages (from pathos->era5cli) (0.3.4)\n",
      "Requirement already satisfied: ppft>=1.6.6.4 in /usr/local/lib/python3.8/dist-packages (from pathos->era5cli) (1.6.6.4)\n",
      "Requirement already satisfied: multiprocess>=0.70.12 in /usr/local/lib/python3.8/dist-packages (from pathos->era5cli) (0.70.12.2)\n",
      "Requirement already satisfied: pox>=0.3.0 in /usr/local/lib/python3.8/dist-packages (from pathos->era5cli) (0.3.0)\n",
      "Requirement already satisfied: six>=1.7.3 in /usr/local/lib/python3.8/dist-packages (from ppft>=1.6.6.4->pathos->era5cli) (1.16.0)\n",
      "Requirement already satisfied: urllib3<1.27,>=1.21.1 in /usr/local/lib/python3.8/dist-packages (from requests>=2.5.0->cdsapi==0.4.0->era5cli) (1.25.11)\n",
      "Requirement already satisfied: charset-normalizer~=2.0.0 in /usr/local/lib/python3.8/dist-packages (from requests>=2.5.0->cdsapi==0.4.0->era5cli) (2.0.12)\n",
      "Requirement already satisfied: idna<4,>=2.5 in /usr/local/lib/python3.8/dist-packages (from requests>=2.5.0->cdsapi==0.4.0->era5cli) (3.3)\n",
      "Requirement already satisfied: certifi>=2017.4.17 in /usr/local/lib/python3.8/dist-packages (from requests>=2.5.0->cdsapi==0.4.0->era5cli) (2021.10.8)\n",
      "\u001b[33mWARNING: You are using pip version 22.0.4; however, version 22.1.2 is available.\n",
      "You should consider upgrading via the '/usr/bin/python -m pip install --upgrade pip' command.\u001b[0m\u001b[33m\n",
      "\u001b[0m"
     ]
    }
   ],
   "source": [
    "# install era5cli\n",
    "!pip install era5cli"
   ]
  },
  {
   "cell_type": "markdown",
   "metadata": {},
   "source": [
    "## Settings"
   ]
  },
  {
   "cell_type": "code",
   "execution_count": 7,
   "metadata": {},
   "outputs": [],
   "source": [
    "# path to forcing data\n",
    "forcing_path  = \"/data/shared/EcoExtreML/STEMMUS_SCOPEv1.0.0/input/Plumber2_data/\""
   ]
  },
  {
   "cell_type": "markdown",
   "metadata": {},
   "source": [
    "## Test run using --dryrun"
   ]
  },
  {
   "cell_type": "code",
   "execution_count": 30,
   "metadata": {},
   "outputs": [],
   "source": [
    "forcing_name = \"AU-ASM_2011-2017_OzFlux_Met.nc\"\n",
    "station_name = \"AU-ASM\"\n",
    "# read data\n",
    "filename = Path(forcing_path, forcing_name) # care for windows/unix paths\n",
    "nc_fid = Dataset(filename, mode='r')\n",
    "\n",
    "nctime = nc_fid.variables['time']\n",
    "ncdate = num2date(nctime[:],units= nctime.units, calendar=nctime.calendar)\n",
    "\n",
    "startyear = ncdate[0].year\n",
    "endyear = startyear\n",
    "\n",
    "startmonth = ncdate[0].month\n",
    "startday = ncdate[0].day\n",
    "starthour = ncdate[0].hour\n",
    "\n",
    "lat = float(nc_fid.variables['latitude'][:].flatten()[0])\n",
    "lon = float(nc_fid.variables['longitude'][:].flatten()[0])"
   ]
  },
  {
   "cell_type": "code",
   "execution_count": 31,
   "metadata": {},
   "outputs": [
    {
     "name": "stdout",
     "output_type": "stream",
     "text": [
      "2011 2011 1 1 0 -22.283000946044922 133.24899291992188\n"
     ]
    }
   ],
   "source": [
    "print(startyear, endyear, startmonth, startday, starthour, lat, lon)"
   ]
  },
  {
   "cell_type": "code",
   "execution_count": 32,
   "metadata": {},
   "outputs": [
    {
     "name": "stdout",
     "output_type": "stream",
     "text": [
      "-22.28200094604492 133.24799291992187 -22.284000946044923 133.24999291992188\n"
     ]
    }
   ],
   "source": [
    "lat_max = lat + 0.001\n",
    "lat_min = lat - 0.001\n",
    "lon_max = lon + 0.001\n",
    "lon_min = lon - 0.001\n",
    "print(lat_max, lon_min, lat_min, lon_max)"
   ]
  },
  {
   "cell_type": "code",
   "execution_count": 38,
   "metadata": {},
   "outputs": [],
   "source": [
    "timestamp = ncdate[0].strftime('%Y%m%d_%H')\n",
    "filename = f\"{station_name}_{timestamp}\""
   ]
  },
  {
   "cell_type": "code",
   "execution_count": 40,
   "metadata": {},
   "outputs": [
    {
     "name": "stdout",
     "output_type": "stream",
     "text": [
      "NB: coordinates [-22.28200094604492, 133.24799291992187, -22.284000946044923, 133.24999291992188] rounded down to two decimals.\n",
      "NB: coordinates [-22.28200094604492, 133.24799291992187, -22.284000946044923, 133.24999291992188] rounded down to two decimals.\n",
      "\n",
      "NB: coordinates [-22.28200094604492, 133.24799291992187, -22.284000946044923, 133.24999291992188] rounded down to two decimals.\n",
      "reanalysis-era5-land\n",
      "\n",
      " reanalysis-era5-landreanalysis-era5-land{'variable': 'soil_temperature_level_1', 'year': [2011], 'month': ['01'], 'time': ['00:00'], 'format': 'netcdf', 'area': [-22.28, 133.25, -22.28, 133.25], 'day': ['01']}   {'variable': 'volumetric_soil_water_layer_1', 'year': [2011], 'month': ['01'], 'time': ['00:00'], 'format': 'netcdf', 'area': [-22.28, 133.25, -22.28, 133.25], 'day': ['01']}{'variable': 'skin_temperature', 'year': [2011], 'month': ['01'], 'time': ['00:00'], 'format': 'netcdf', 'area': [-22.28, 133.25, -22.28, 133.25], 'day': ['01']}AU-ASM_20110101_00-land_soil_temperature_level_1_2011_hourly_133E-133E_22S-22S.nc  \n",
      "AU-ASM_20110101_00-land_volumetric_soil_water_layer_1_2011_hourly_133E-133E_22S-22S.ncAU-ASM_20110101_00-land_skin_temperature_2011_hourly_133E-133E_22S-22S.nc\n",
      "\n"
     ]
    }
   ],
   "source": [
    "!era5cli hourly --variables soil_temperature_level_1 volumetric_soil_water_layer_1 skin_temperature --startyear {startyear} --endyear {endyear} --land --area {lat_max} {lon_min} {lat_min} {lon_max} --months {startmonth} --days {startday} --hours {starthour} --outputprefix {filename} --dryrun --merge"
   ]
  },
  {
   "cell_type": "markdown",
   "metadata": {},
   "source": [
    "## Download data for 170"
   ]
  },
  {
   "cell_type": "code",
   "execution_count": null,
   "metadata": {},
   "outputs": [],
   "source": [
    "forcing_filenames_list = [\"AU-ASM_2011-2017_OzFlux_Met.nc\", \"AR-SLu_2010-2010_FLUXNET2015_Met.nc\"]\n",
    "\n",
    "## if you want to download all 170 sites, change False to True\n",
    "fullrun = False\n",
    "if fullrun:\n",
    "    forcing_filenames_list = [file.name for file in Path(forcing_path).iterdir()]\n",
    "    \n",
    "for forcing_name in forcing_filenames_list:\n",
    "    # read data\n",
    "    filename = Path(forcing_path, forcing_name) # care for windows/unix paths\n",
    "    nc_fid = Dataset(filename, mode='r')\n",
    "\n",
    "    nctime = nc_fid.variables['time']\n",
    "    ncdate = num2date(nctime[:],units= nctime.units, calendar=nctime.calendar)\n",
    "    \n",
    "    startyear = ncdate[0].year\n",
    "    endyear = startyear\n",
    "\n",
    "    startmonth = ncdate[0].month\n",
    "    startday = ncdate[0].day\n",
    "    starthour = ncdate[0].hour\n",
    "\n",
    "    lat = float(nc_fid.variables['latitude'][:].flatten()[0])\n",
    "    lon = float(nc_fid.variables['longitude'][:].flatten()[0])\n",
    "    \n",
    "    # create area\n",
    "    lat_max = lat + 0.001\n",
    "    lat_min = lat - 0.001\n",
    "    lon_max = lon + 0.001\n",
    "    lon_min = lon - 0.001\n",
    "    \n",
    "    # create prefix for file names\n",
    "    timestamp = ncdate[0].strftime('%Y%m%d_%H')\n",
    "    filename = f\"{station_name}_{timestamp}\"\n",
    "    \n",
    "    # Download data\n",
    "    station_name = ncfile.split('_')[0]\n",
    "    !era5cli hourly --variables soil_temperature_level_1 volumetric_soil_water_layer_1 --startyear {startyear} --endyear {endyear} --land --area {lat_max} {lon_min} {lat_min} {lon_max} --outputprefix {filename} --merge\n",
    "    "
   ]
  },
  {
   "cell_type": "code",
   "execution_count": null,
   "metadata": {},
   "outputs": [],
   "source": []
  }
 ],
 "metadata": {
  "kernelspec": {
   "display_name": "Python",
   "language": "python",
   "name": "python3"
  },
  "language_info": {
   "codemirror_mode": {
    "name": "ipython",
    "version": 3
   },
   "file_extension": ".py",
   "mimetype": "text/x-python",
   "name": "python",
   "nbconvert_exporter": "python",
   "pygments_lexer": "ipython3",
   "version": "3.8.10"
  }
 },
 "nbformat": 4,
 "nbformat_minor": 4
}
