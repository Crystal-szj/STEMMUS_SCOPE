{
 "cells": [
  {
   "cell_type": "markdown",
   "metadata": {},
   "source": [
    "# Dowenload era5 land using era5cli\n",
    "\n",
    "This notebook shows how to download [era5 data](https://climate.copernicus.eu/) using [era5cli](https://era5cli.readthedocs.io/en/latest/index.html).  "
   ]
  },
  {
   "cell_type": "code",
   "execution_count": 1,
   "metadata": {},
   "outputs": [],
   "source": [
    "# import python libraries\n",
    "from netCDF4 import Dataset, num2date\n",
    "from pathlib import Path"
   ]
  },
  {
   "cell_type": "markdown",
   "metadata": {},
   "source": [
    "## Run these two cells below only once"
   ]
  },
  {
   "cell_type": "code",
   "execution_count": null,
   "metadata": {},
   "outputs": [],
   "source": [
    "# Create a key ascii file\n",
    "!echo \"url: https://cds.climate.copernicus.eu/api/v2\" > ~/.cdsapirc \n",
    "\n",
    "# Replace UID with your user ID and KEY with your API key\n",
    "!echo \"key: UID:KEY\" >> ~/.cdsapirc"
   ]
  },
  {
   "cell_type": "code",
   "execution_count": null,
   "metadata": {},
   "outputs": [],
   "source": [
    "# install era5cli\n",
    "!pip install era5cli"
   ]
  },
  {
   "cell_type": "markdown",
   "metadata": {},
   "source": [
    "## Settings"
   ]
  },
  {
   "cell_type": "code",
   "execution_count": 2,
   "metadata": {},
   "outputs": [],
   "source": [
    "# path to forcing data, for example on CRIB data are located at:\n",
    "forcing_path = \"/data/shared/EcoExtreML/STEMMUS_SCOPEv1.0.0/input/Plumber2_data/\""
   ]
  },
  {
   "cell_type": "markdown",
   "metadata": {},
   "source": [
    "## Test run using --dryrun"
   ]
  },
  {
   "cell_type": "code",
   "execution_count": 3,
   "metadata": {},
   "outputs": [],
   "source": [
    "forcing_name = \"AU-ASM_2011-2017_OzFlux_Met.nc\"\n",
    "\n",
    "# read data\n",
    "filename = Path(forcing_path, forcing_name) # care for windows/unix paths\n",
    "nc_fid = Dataset(filename, mode='r')\n",
    "\n",
    "# get time information\n",
    "nctime = nc_fid.variables['time']\n",
    "ncdate = num2date(nctime[:],units= nctime.units, calendar=nctime.calendar)\n",
    "\n",
    "startyear = ncdate[0].year\n",
    "endyear = startyear\n",
    "startmonth = ncdate[0].month\n",
    "startday = ncdate[0].day\n",
    "starthour = ncdate[0].hour\n",
    "\n",
    "lat = float(nc_fid.variables['latitude'][:].flatten()[0])\n",
    "lon = float(nc_fid.variables['longitude'][:].flatten()[0])\n",
    "\n",
    "# create area, note that era5 resolution is 0.1\n",
    "lat_max = lat + 0.001\n",
    "lat_min = lat - 0.001\n",
    "lon_max = lon + 0.001\n",
    "lon_min = lon - 0.001\n",
    "\n",
    "# create prefix for file name\n",
    "station_name = forcing_name.split('_')[0]\n",
    "timestamp = ncdate[0].strftime('%Y%m%d_%H')\n",
    "file_name = f\"{station_name}_{timestamp}\""
   ]
  },
  {
   "cell_type": "code",
   "execution_count": 4,
   "metadata": {},
   "outputs": [
    {
     "name": "stdout",
     "output_type": "stream",
     "text": [
      "2011 2011 1 1 0 -22.283000946044922 133.24899291992188\n"
     ]
    }
   ],
   "source": [
    "print(startyear, endyear, startmonth, startday, starthour, lat, lon)"
   ]
  },
  {
   "cell_type": "code",
   "execution_count": 5,
   "metadata": {},
   "outputs": [
    {
     "name": "stdout",
     "output_type": "stream",
     "text": [
      "-22.28200094604492 133.24799291992187 -22.284000946044923 133.24999291992188\n"
     ]
    }
   ],
   "source": [
    "print(lat_max, lon_min, lat_min, lon_max)"
   ]
  },
  {
   "cell_type": "markdown",
   "metadata": {},
   "source": [
    "## Run era5cli \n",
    "The cell below only shows the results of the command-line. It does **not** download any data. "
   ]
  },
  {
   "cell_type": "code",
   "execution_count": 15,
   "metadata": {},
   "outputs": [
    {
     "name": "stdout",
     "output_type": "stream",
     "text": [
      "NB: coordinates [-22.28200094604492, 133.24799291992187, -22.284000946044923, 133.24999291992188] rounded down to two decimals.\n",
      "\n",
      "NB: coordinates [-22.28200094604492, 133.24799291992187, -22.284000946044923, 133.24999291992188] rounded down to two decimals.\n",
      "\n",
      "NB: coordinates [-22.28200094604492, 133.24799291992187, -22.284000946044923, 133.24999291992188] rounded down to two decimals.\n",
      "\n",
      "NB: coordinates [-22.28200094604492, 133.24799291992187, -22.284000946044923, 133.24999291992188] rounded down to two decimals.\n",
      "\n",
      "NB: coordinates [-22.28200094604492, 133.24799291992187, -22.284000946044923, 133.24999291992188] rounded down to two decimals.\n",
      "\n",
      "NB: coordinates [-22.28200094604492, 133.24799291992187, -22.284000946044923, 133.24999291992188] rounded down to two decimals.\n",
      "\n",
      "NB: coordinates [-22.28200094604492, 133.24799291992187, -22.284000946044923, 133.24999291992188] rounded down to two decimals.\n",
      "\n",
      "NB: coordinates [-22.28200094604492, 133.24799291992187, -22.284000946044923, 133.24999291992188] rounded down to two decimals.\n",
      "\n",
      "reanalysis-era5-land {'variable': 'soil_temperature_level_1', 'year': [2011], 'month': ['01'], 'time': ['00:00'], 'format': 'netcdf', 'area': [-22.28, 133.25, -22.28, 133.25], 'day': ['01']} AU-ASM_20110101_00-land_soil_temperature_level_1_2011_hourly_133E-133E_22S-22S.nc\n",
      "reanalysis-era5-land {'variable': 'soil_temperature_level_2', 'year': [2011], 'month': ['01'], 'time': ['00:00'], 'format': 'netcdf', 'area': [-22.28, 133.25, -22.28, 133.25], 'day': ['01']} AU-ASM_20110101_00-land_soil_temperature_level_2_2011_hourly_133E-133E_22S-22S.nc\n",
      "NB: coordinates [-22.28200094604492, 133.24799291992187, -22.284000946044923, 133.24999291992188] rounded down to two decimals.\n",
      "\n",
      "reanalysis-era5-land {'variable': 'volumetric_soil_water_layer_2', 'year': [2011], 'month': ['01'], 'time': ['00:00'], 'format': 'netcdf', 'area': [-22.28, 133.25, -22.28, 133.25], 'day': ['01']} AU-ASM_20110101_00-land_volumetric_soil_water_layer_2_2011_hourly_133E-133E_22S-22S.nc\n",
      "reanalysis-era5-land {'variable': 'volumetric_soil_water_layer_4', 'year': [2011], 'month': ['01'], 'time': ['00:00'], 'format': 'netcdf', 'area': [-22.28, 133.25, -22.28, 133.25], 'day': ['01']} AU-ASM_20110101_00-land_volumetric_soil_water_layer_4_2011_hourly_133E-133E_22S-22S.nc\n",
      "reanalysis-era5-land {'variable': 'volumetric_soil_water_layer_3', 'year': [2011], 'month': ['01'], 'time': ['00:00'], 'format': 'netcdf', 'area': [-22.28, 133.25, -22.28, 133.25], 'day': ['01']} AU-ASM_20110101_00-land_volumetric_soil_water_layer_3_2011_hourly_133E-133E_22S-22S.nc\n",
      "reanalysis-era5-land {'variable': 'volumetric_soil_water_layer_1', 'year': [2011], 'month': ['01'], 'time': ['00:00'], 'format': 'netcdf', 'area': [-22.28, 133.25, -22.28, 133.25], 'day': ['01']} AU-ASM_20110101_00-land_volumetric_soil_water_layer_1_2011_hourly_133E-133E_22S-22S.nc\n",
      "reanalysis-era5-land {'variable': 'soil_temperature_level_3', 'year': [2011], 'month': ['01'], 'time': ['00:00'], 'format': 'netcdf', 'area': [-22.28, 133.25, -22.28, 133.25], 'day': ['01']} AU-ASM_20110101_00-land_soil_temperature_level_3_2011_hourly_133E-133E_22S-22S.nc\n",
      "reanalysis-era5-land {'variable': 'skin_temperature', 'year': [2011], 'month': ['01'], 'time': ['00:00'], 'format': 'netcdf', 'area': [-22.28, 133.25, -22.28, 133.25], 'day': ['01']} AU-ASM_20110101_00-land_skin_temperature_2011_hourly_133E-133E_22S-22S.nc\n",
      "reanalysis-era5-land {'variable': 'soil_temperature_level_4', 'year': [2011], 'month': ['01'], 'time': ['00:00'], 'format': 'netcdf', 'area': [-22.28, 133.25, -22.28, 133.25], 'day': ['01']} AU-ASM_20110101_00-land_soil_temperature_level_4_2011_hourly_133E-133E_22S-22S.nc\n"
     ]
    }
   ],
   "source": [
    "# Run era5cli for variables soil_temperature and volumetric_soil_water at four levels and skin_temperature\n",
    "!era5cli hourly --variables soil_temperature_level_1 soil_temperature_level_2 soil_temperature_level_3 soil_temperature_level_4 \\\n",
    "volumetric_soil_water_layer_1 volumetric_soil_water_layer_2 volumetric_soil_water_layer_3 volumetric_soil_water_layer_4 skin_temperature \\\n",
    "--startyear {startyear} --endyear {endyear} --land \\\n",
    "--area {lat_max} {lon_min} {lat_min} {lon_max} \\\n",
    "--months {startmonth} --days {startday} --hours {starthour} --outputprefix {file_name} --dryrun --merge"
   ]
  },
  {
   "cell_type": "markdown",
   "metadata": {},
   "source": [
    "## Download data\n",
    "\n",
    "The cell below downloads data. You can specify the name of forcing files or download data at all 170 sites. "
   ]
  },
  {
   "cell_type": "code",
   "execution_count": null,
   "metadata": {},
   "outputs": [
    {
     "name": "stdout",
     "output_type": "stream",
     "text": [
      "NB: coordinates [-22.28200094604492, 133.24799291992187, -22.284000946044923, 133.24999291992188] rounded down to two decimals.\n",
      "\n",
      "NB: coordinates [-22.28200094604492, 133.24799291992187, -22.284000946044923, 133.24999291992188] rounded down to two decimals.\n",
      "\n",
      "NB: coordinates [-22.28200094604492, 133.24799291992187, -22.284000946044923, 133.24999291992188] rounded down to two decimals.\n",
      "\n",
      "NB: coordinates [-22.28200094604492, 133.24799291992187, -22.284000946044923, 133.24999291992188] rounded down to two decimals.\n",
      "\n",
      "NB: coordinates [-22.28200094604492, 133.24799291992187, -22.284000946044923, 133.24999291992188] rounded down to two decimals.\n",
      "\n",
      "NB: coordinates [-22.28200094604492, 133.24799291992187, -22.284000946044923, 133.24999291992188] rounded down to two decimals.\n",
      "\n",
      "NB: coordinates [-22.28200094604492, 133.24799291992187, -22.284000946044923, 133.24999291992188] rounded down to two decimals.\n",
      "\n",
      "NB: coordinates [-22.28200094604492, 133.24799291992187, -22.284000946044923, 133.24999291992188] rounded down to two decimals.\n",
      "\n",
      "\n",
      "Download request is being queued at Copernicus.\n",
      "It can take some time before downloading starts, please do not kill this process in the meantime.\n",
      "\n",
      "\n",
      "Download request is being queued at Copernicus.\n",
      "It can take some time before downloading starts, please do not kill this process in the meantime.\n",
      "\n",
      "\n",
      "Download request is being queued at Copernicus.\n",
      "It can take some time before downloading starts, please do not kill this process in the meantime.\n",
      "\n",
      "\n",
      "Download request is being queued at Copernicus.\n",
      "It can take some time before downloading starts, please do not kill this process in the meantime.\n",
      "\n",
      "\n",
      "Download request is being queued at Copernicus.\n",
      "It can take some time before downloading starts, please do not kill this process in the meantime.\n",
      "\n",
      "Download request is being queued at Copernicus.\n",
      "It can take some time before downloading starts, please do not kill this process in the meantime.\n",
      "\n",
      "\n",
      "\n",
      "Download request is being queued at Copernicus.\n",
      "It can take some time before downloading starts, please do not kill this process in the meantime.\n",
      "\n",
      "\n",
      "Download request is being queued at Copernicus.\n",
      "It can take some time before downloading starts, please do not kill this process in the meantime.\n",
      "\n",
      "2022-06-01 15:46:42,329 INFO Welcome to the CDS\n",
      "2022-06-01 15:46:42,329 INFO Sending request to https://cds.climate.copernicus.eu/api/v2/resources/reanalysis-era5-land\n",
      "2022-06-01 15:46:42,337 INFO Welcome to the CDS\n",
      "2022-06-01 15:46:42,337 INFO Sending request to https://cds.climate.copernicus.eu/api/v2/resources/reanalysis-era5-land\n",
      "2022-06-01 15:46:42,343 INFO Welcome to the CDS\n",
      "2022-06-01 15:46:42,346 INFO Welcome to the CDS\n",
      "2022-06-01 15:46:42,347 INFO Sending request to https://cds.climate.copernicus.eu/api/v2/resources/reanalysis-era5-land\n",
      "2022-06-01 15:46:42,350 INFO Welcome to the CDS\n",
      "2022-06-01 15:46:42,351 INFO Welcome to the CDS\n",
      "2022-06-01 15:46:42,353 INFO Welcome to the CDS\n",
      "2022-06-01 15:46:42,354 INFO Welcome to the CDS\n",
      "2022-06-01 15:46:42,354 INFO Sending request to https://cds.climate.copernicus.eu/api/v2/resources/reanalysis-era5-land\n",
      "2022-06-01 15:46:42,359 INFO Sending request to https://cds.climate.copernicus.eu/api/v2/resources/reanalysis-era5-land\n",
      "2022-06-01 15:46:42,360 INFO Sending request to https://cds.climate.copernicus.eu/api/v2/resources/reanalysis-era5-land\n",
      "2022-06-01 15:46:42,361 INFO Sending request to https://cds.climate.copernicus.eu/api/v2/resources/reanalysis-era5-land\n",
      "2022-06-01 15:46:42,361 INFO Sending request to https://cds.climate.copernicus.eu/api/v2/resources/reanalysis-era5-land\n",
      "2022-06-01 15:46:42,410 INFO Request is queued\n",
      "2022-06-01 15:46:42,411 INFO Request is queued\n",
      "2022-06-01 15:46:42,416 INFO Request is queued\n",
      "2022-06-01 15:46:42,431 INFO Request is queued\n",
      "2022-06-01 15:46:42,433 INFO Request is queued\n",
      "2022-06-01 15:46:42,438 INFO Request is queued\n",
      "2022-06-01 15:46:42,441 INFO Request is queued\n",
      "2022-06-01 15:46:42,445 INFO Request is queued\n"
     ]
    }
   ],
   "source": [
    "## specify the forcing file names or set fullrun = True\n",
    "forcing_filenames_list = [\"AR-SLu_2010-2010_FLUXNET2015_Met.nc\", \"AU-ASM_2011-2017_OzFlux_Met.nc\", ]\n",
    "\n",
    "## if you want to download all 170 sites, change fullrun = False to fullrun = True\n",
    "fullrun = False\n",
    "if fullrun:\n",
    "    forcing_filenames_list = [file.name for file in Path(forcing_path).iterdir()]\n",
    "    \n",
    "for forcing_name in forcing_filenames_list:\n",
    "    # read data\n",
    "    filename = Path(forcing_path, forcing_name) # care for windows/unix paths\n",
    "    nc_fid = Dataset(filename, mode='r')\n",
    "\n",
    "    # get time information\n",
    "    nctime = nc_fid.variables['time']\n",
    "    ncdate = num2date(nctime[:],units= nctime.units, calendar=nctime.calendar)\n",
    "\n",
    "    startyear = ncdate[0].year\n",
    "    endyear = startyear\n",
    "    startmonth = ncdate[0].month\n",
    "    startday = ncdate[0].day\n",
    "    starthour = ncdate[0].hour\n",
    "\n",
    "    lat = float(nc_fid.variables['latitude'][:].flatten()[0])\n",
    "    lon = float(nc_fid.variables['longitude'][:].flatten()[0])\n",
    "\n",
    "    # create area, note that era5 resolution is 0.1\n",
    "    lat_max = lat + 0.001\n",
    "    lat_min = lat - 0.001\n",
    "    lon_max = lon + 0.001\n",
    "    lon_min = lon - 0.001\n",
    "\n",
    "    # create prefix for file name\n",
    "    station_name = forcing_name.split('_')[0]\n",
    "    timestamp = ncdate[0].strftime('%Y%m%d_%H')\n",
    "    file_name = f\"{station_name}_{timestamp}\"\n",
    "\n",
    "    # download data\n",
    "    !era5cli hourly --variables soil_temperature_level_1 soil_temperature_level_2 soil_temperature_level_3 soil_temperature_level_4 \\\n",
    "    volumetric_soil_water_layer_1 volumetric_soil_water_layer_2 volumetric_soil_water_layer_3 volumetric_soil_water_layer_4 skin_temperature \\\n",
    "    --startyear {startyear} --endyear {endyear} --land \\\n",
    "    --area {lat_max} {lon_min} {lat_min} {lon_max} \\\n",
    "    --months {startmonth} --days {startday} --hours {starthour} --outputprefix {file_name} --merge"
   ]
  },
  {
   "cell_type": "code",
   "execution_count": null,
   "metadata": {},
   "outputs": [],
   "source": []
  }
 ],
 "metadata": {
  "kernelspec": {
   "display_name": "Python 3 (ipykernel)",
   "language": "python",
   "name": "python3"
  },
  "language_info": {
   "codemirror_mode": {
    "name": "ipython",
    "version": 3
   },
   "file_extension": ".py",
   "mimetype": "text/x-python",
   "name": "python",
   "nbconvert_exporter": "python",
   "pygments_lexer": "ipython3",
   "version": "3.9.12"
  }
 },
 "nbformat": 4,
 "nbformat_minor": 4
}
