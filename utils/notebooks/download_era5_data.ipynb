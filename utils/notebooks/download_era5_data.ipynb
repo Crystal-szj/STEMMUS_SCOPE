{
 "cells": [
  {
   "cell_type": "code",
   "execution_count": 1,
   "metadata": {},
   "outputs": [],
   "source": [
    "from netCDF4 import Dataset, num2date\n",
    "from pathlib import Path"
   ]
  },
  {
   "cell_type": "code",
   "execution_count": null,
   "metadata": {},
   "outputs": [],
   "source": [
    "# install era5cli\n",
    "!pip install era5cli"
   ]
  },
  {
   "cell_type": "code",
   "execution_count": null,
   "metadata": {},
   "outputs": [],
   "source": [
    "# path to forcing data\n",
    "forcing_path  = \"/data/shared/EcoExtreML/STEMMUS_SCOPEv1.0.0/input/Plumber2_data/\""
   ]
  },
  {
   "cell_type": "markdown",
   "metadata": {},
   "source": [
    "## Test run using --dryrun"
   ]
  },
  {
   "cell_type": "code",
   "execution_count": 4,
   "metadata": {},
   "outputs": [],
   "source": [
    "forcing_name = \"AR-SLu_2010-2010_FLUXNET2015_Met.nc\"\n",
    "# read data\n",
    "filename = Path(forcing_path, forcing_name) # care for windows/unix paths\n",
    "nc_fid = Dataset(filename, mode='r')\n",
    "\n",
    "nctime = nc_fid.variables['time']\n",
    "ncdate = num2date(nctime[:],units= nctime.units, calendar=nctime.calendar)\n",
    "year = [date.year for date in ncdate]\n",
    "\n",
    "startyear = year[0]\n",
    "endyear = year[-1]\n",
    "\n",
    "lat = float(nc_fid.variables['latitude'][:].flatten()[0])\n",
    "lon = float(nc_fid.variables['longitude'][:].flatten()[0])"
   ]
  },
  {
   "cell_type": "code",
   "execution_count": 5,
   "metadata": {},
   "outputs": [
    {
     "name": "stdout",
     "output_type": "stream",
     "text": [
      "2010 2010 -33.46480178833008 -66.45980072021484\n"
     ]
    }
   ],
   "source": [
    "print(startyear, endyear, lat, lon)"
   ]
  },
  {
   "cell_type": "code",
   "execution_count": 10,
   "metadata": {},
   "outputs": [
    {
     "name": "stdout",
     "output_type": "stream",
     "text": [
      "-33.46380178833008 -66.46080072021485 -33.465801788330076 -66.45880072021484\n"
     ]
    }
   ],
   "source": [
    "lat_max = lat + 0.001\n",
    "lat_min = lat - 0.001\n",
    "lon_max = lon + 0.001\n",
    "lon_min = lon - 0.001\n",
    "print(lat_max, lon_min, lat_min, lon_max)"
   ]
  },
  {
   "cell_type": "code",
   "execution_count": 14,
   "metadata": {},
   "outputs": [
    {
     "name": "stdout",
     "output_type": "stream",
     "text": [
      "NB: coordinates [-33.46380178833008, -66.46080072021485, -33.465801788330076, -66.45880072021484] rounded down to two decimals.\n",
      "\n",
      "NB: coordinates [-33.46380178833008, -66.46080072021485, -33.465801788330076, -66.45880072021484] rounded down to two decimals.\n",
      "\n",
      "reanalysis-era5-land {'variable': 'soil_temperature_level_1', 'year': [2010], 'month': ['01', '02', '03', '04', '05', '06', '07', '08', '09', '10', '11', '12'], 'time': ['00:00', '01:00', '02:00', '03:00', '04:00', '05:00', '06:00', '07:00', '08:00', '09:00', '10:00', '11:00', '12:00', '13:00', '14:00', '15:00', '16:00', '17:00', '18:00', '19:00', '20:00', '21:00', '22:00', '23:00'], 'format': 'netcdf', 'area': [-33.46, -66.46, -33.47, -66.46], 'day': ['01', '02', '03', '04', '05', '06', '07', '08', '09', '10', '11', '12', '13', '14', '15', '16', '17', '18', '19', '20', '21', '22', '23', '24', '25', '26', '27', '28', '29', '30', '31']} AR-SLu-land_soil_temperature_level_1_2010_hourly_66W-66W_33S-33S.nc\n",
      "reanalysis-era5-land {'variable': 'volumetric_soil_water_layer_1', 'year': [2010], 'month': ['01', '02', '03', '04', '05', '06', '07', '08', '09', '10', '11', '12'], 'time': ['00:00', '01:00', '02:00', '03:00', '04:00', '05:00', '06:00', '07:00', '08:00', '09:00', '10:00', '11:00', '12:00', '13:00', '14:00', '15:00', '16:00', '17:00', '18:00', '19:00', '20:00', '21:00', '22:00', '23:00'], 'format': 'netcdf', 'area': [-33.46, -66.46, -33.47, -66.46], 'day': ['01', '02', '03', '04', '05', '06', '07', '08', '09', '10', '11', '12', '13', '14', '15', '16', '17', '18', '19', '20', '21', '22', '23', '24', '25', '26', '27', '28', '29', '30', '31']} AR-SLu-land_volumetric_soil_water_layer_1_2010_hourly_66W-66W_33S-33S.nc\n"
     ]
    }
   ],
   "source": [
    "!era5cli hourly --variables soil_temperature_level_1 volumetric_soil_water_layer_1 --startyear {startyear} --endyear {endyear} --land --area {lat_max} {lon_min} {lat_min} {lon_max} --outputprefix AR-SLu --dryrun --merge"
   ]
  },
  {
   "cell_type": "markdown",
   "metadata": {},
   "source": [
    "## Download data for 170"
   ]
  },
  {
   "cell_type": "code",
   "execution_count": null,
   "metadata": {},
   "outputs": [],
   "source": [
    "forcing_filenames_list = [file.name for file in Path(forcing_path).iterdir()]\n",
    "for forcing_name in forcing_filenames_list:\n",
    "    # read data\n",
    "    filename = Path(forcing_path, forcing_name) # care for windows/unix paths\n",
    "    nc_fid = Dataset(filename, mode='r')\n",
    "\n",
    "    nctime = nc_fid.variables['time']\n",
    "    ncdate = num2date(nctime[:],units= nctime.units, calendar=nctime.calendar)\n",
    "    year = [date.year for date in ncdate]\n",
    "\n",
    "    startyear = year[0]\n",
    "    endyear = year[-1]\n",
    "\n",
    "    lat = float(nc_fid.variables['latitude'][:].flatten()[0])\n",
    "    lon = float(nc_fid.variables['longitude'][:].flatten()[0])\n",
    "    \n",
    "    # create area\n",
    "    lat_max = lat + 0.001\n",
    "    lat_min = lat - 0.001\n",
    "    lon_max = lon + 0.001\n",
    "    lon_min = lon - 0.001\n",
    "    \n",
    "    # Download data\n",
    "    station_name = ncfile.split('_')[0]\n",
    "    !era5cli hourly --variables soil_temperature_level_1 volumetric_soil_water_layer_1 --startyear {startyear} --endyear {endyear} --land --area {lat_max} {lon_min} {lat_min} {lon_max} --outputprefix {station_name} --merge\n",
    "    "
   ]
  },
  {
   "cell_type": "code",
   "execution_count": null,
   "metadata": {},
   "outputs": [],
   "source": []
  }
 ],
 "metadata": {
  "kernelspec": {
   "display_name": "Python 3 (ipykernel)",
   "language": "python",
   "name": "python3"
  },
  "language_info": {
   "codemirror_mode": {
    "name": "ipython",
    "version": 3
   },
   "file_extension": ".py",
   "mimetype": "text/x-python",
   "name": "python",
   "nbconvert_exporter": "python",
   "pygments_lexer": "ipython3",
   "version": "3.9.12"
  }
 },
 "nbformat": 4,
 "nbformat_minor": 4
}
